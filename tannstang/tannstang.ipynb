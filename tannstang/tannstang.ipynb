{
 "cells": [
  {
   "cell_type": "code",
   "execution_count": 1,
   "metadata": {},
   "outputs": [],
   "source": [
    "import numpy as np\n",
    "import matplotlib.pyplot as plt\n",
    "import skimage.draw as skid\n",
    "from ipywidgets import *\n",
    "\n",
    "%matplotlib inline"
   ]
  },
  {
   "cell_type": "code",
   "execution_count": 2,
   "metadata": {},
   "outputs": [
    {
     "data": {
      "application/vnd.jupyter.widget-view+json": {
       "model_id": "3f70bddc8ae8437a92d9cbcdaec6b1f7",
       "version_major": 2,
       "version_minor": 0
      },
      "text/html": [
       "<p>Failed to display Jupyter Widget of type <code>interactive</code>.</p>\n",
       "<p>\n",
       "  If you're reading this message in Jupyter Notebook or JupyterLab, it may mean\n",
       "  that the widgets JavaScript is still loading. If this message persists, it\n",
       "  likely means that the widgets JavaScript library is either not installed or\n",
       "  not enabled. See the <a href=\"https://ipywidgets.readthedocs.io/en/stable/user_install.html\">Jupyter\n",
       "  Widgets Documentation</a> for setup instructions.\n",
       "</p>\n",
       "<p>\n",
       "  If you're reading this message in another notebook frontend (for example, a static\n",
       "  rendering on GitHub or <a href=\"https://nbviewer.jupyter.org/\">NBViewer</a>),\n",
       "  it may mean that your frontend doesn't currently support widgets.\n",
       "</p>\n"
      ],
      "text/plain": [
       "interactive(children=(FloatSlider(value=-0.04159265358979303, description='A', max=3.141592653589793, min=-3.141592653589793), Output()), _dom_classes=('widget-interact',))"
      ]
     },
     "metadata": {},
     "output_type": "display_data"
    },
    {
     "data": {
      "text/plain": [
       "<function __main__.draw>"
      ]
     },
     "execution_count": 2,
     "metadata": {},
     "output_type": "execute_result"
    }
   ],
   "source": [
    "z = 200\n",
    "\n",
    "\n",
    "#fb = np.zeros((z,z), dtype=np.uint8)\n",
    "def draw(A):\n",
    "    fb = np.zeros((z,z), dtype=np.uint8)\n",
    "\n",
    "    N = 5\n",
    "    R = 0.1\n",
    "    r = 0.03\n",
    "\n",
    "    C = 2 * np.pi * R\n",
    "    X = (A / (2 * np.pi)) * C\n",
    "    Y = 0\n",
    "    \n",
    "    for i in range(N):\n",
    "        a = A + 2 * np.pi * (i / N)\n",
    "        x = X + R * np.cos(a)\n",
    "        y = Y + R * np.sin(a)\n",
    "\n",
    "        xx, yy = skid.circle(z//2 + z*x, z//2 + z*y, z*r)\n",
    "        fb[yy, xx] = 1\n",
    "\n",
    "    plt.figure(figsize=(10,10))    \n",
    "    plt.imshow(fb)\n",
    "\n",
    "interact(draw, A=(-np.pi, np.pi, 0.1))"
   ]
  },
  {
   "cell_type": "code",
   "execution_count": 3,
   "metadata": {},
   "outputs": [
    {
     "data": {
      "application/vnd.jupyter.widget-view+json": {
       "model_id": "e104a24830f346c59cbef76bfa19d20a",
       "version_major": 2,
       "version_minor": 0
      },
      "text/html": [
       "<p>Failed to display Jupyter Widget of type <code>interactive</code>.</p>\n",
       "<p>\n",
       "  If you're reading this message in Jupyter Notebook or JupyterLab, it may mean\n",
       "  that the widgets JavaScript is still loading. If this message persists, it\n",
       "  likely means that the widgets JavaScript library is either not installed or\n",
       "  not enabled. See the <a href=\"https://ipywidgets.readthedocs.io/en/stable/user_install.html\">Jupyter\n",
       "  Widgets Documentation</a> for setup instructions.\n",
       "</p>\n",
       "<p>\n",
       "  If you're reading this message in another notebook frontend (for example, a static\n",
       "  rendering on GitHub or <a href=\"https://nbviewer.jupyter.org/\">NBViewer</a>),\n",
       "  it may mean that your frontend doesn't currently support widgets.\n",
       "</p>\n"
      ],
      "text/plain": [
       "interactive(children=(FloatSlider(value=-0.0015926535897929917, description='A', max=3.141592653589793, min=-3.141592653589793, step=0.01), Output()), _dom_classes=('widget-interact',))"
      ]
     },
     "metadata": {},
     "output_type": "display_data"
    },
    {
     "data": {
      "text/plain": [
       "<function __main__.draw_one>"
      ]
     },
     "execution_count": 3,
     "metadata": {},
     "output_type": "execute_result"
    }
   ],
   "source": [
    "z = 200\n",
    "\n",
    "N = 18\n",
    "R = 0.30\n",
    "r = 0.02\n",
    "\n",
    "fb = np.zeros((z,z), dtype=np.uint8)\n",
    "\n",
    "def draw_all(A):\n",
    "    C = 2 * np.pi * R\n",
    "    X = (A / (2 * np.pi)) * C\n",
    "    Y = 0\n",
    "    \n",
    "    for i in range(N):\n",
    "        a = A + 2 * np.pi * (i / N)\n",
    "        x = X + R * np.cos(a)\n",
    "        y = Y + R * np.sin(a)\n",
    "\n",
    "        xx, yy = skid.circle(z//2 + z*x, z//2 + z*y, z*r)\n",
    "        #print(xx)\n",
    "        xx = np.minimum(xx, z-1)\n",
    "        xx = np.maximum(xx, 0)\n",
    "        fb[yy, xx] = 1+i\n",
    "\n",
    "for a in np.linspace(-np.pi, np.pi, 400):\n",
    "    draw_all(a)\n",
    "\n",
    "def draw_one(A):\n",
    "    fb_ = np.copy(fb)\n",
    "\n",
    "    C = 2 * np.pi * R\n",
    "    X = (A / (2 * np.pi)) * C\n",
    "    Y = 0\n",
    "    \n",
    "    for i in range(N):\n",
    "        a = A + 2 * np.pi * (i / N)\n",
    "        x = X + R * np.cos(a)\n",
    "        y = Y + R * np.sin(a)\n",
    "\n",
    "        xx, yy = skid.circle(z//2 + z*x, z//2 + z*y, z*r)\n",
    "        xx = np.minimum(xx, z-1)\n",
    "        xx = np.maximum(xx, 0)\n",
    "        fb_[yy, xx] = 20\n",
    "        \n",
    "    plt.figure(figsize=(10,10))\n",
    "    plt.imshow(fb_)\n",
    "    \n",
    "#draw_one(0)\n",
    "interact(draw_one, A=(-np.pi, np.pi, 0.01))"
   ]
  }
 ],
 "metadata": {
  "kernelspec": {
   "display_name": "Python 3",
   "language": "python",
   "name": "python3"
  },
  "language_info": {
   "codemirror_mode": {
    "name": "ipython",
    "version": 3
   },
   "file_extension": ".py",
   "mimetype": "text/x-python",
   "name": "python",
   "nbconvert_exporter": "python",
   "pygments_lexer": "ipython3",
   "version": "3.5.3"
  },
  "widgets": {
   "application/vnd.jupyter.widget-state+json": {
    "state": {
     "16fd5f00170d4e619dd3e0e7223df6a8": {
      "model_module": "@jupyter-widgets/controls",
      "model_module_version": "1.0.0",
      "model_name": "FloatSliderModel",
      "state": {
       "description": "A",
       "layout": "IPY_MODEL_8e84a1d170c64a4da66841e18d6f1809",
       "max": 3.141592653589793,
       "min": -3.141592653589793,
       "step": 0.01,
       "style": "IPY_MODEL_6bef8a0b1cc3469588675b659796f248",
       "value": -0.0015926535897929917
      }
     },
     "1d7c36734068450f8d9205e5a382ee9d": {
      "model_module": "@jupyter-widgets/controls",
      "model_module_version": "1.0.0",
      "model_name": "SliderStyleModel",
      "state": {
       "description_width": ""
      }
     },
     "3f70bddc8ae8437a92d9cbcdaec6b1f7": {
      "model_module": "@jupyter-widgets/controls",
      "model_module_version": "1.0.0",
      "model_name": "VBoxModel",
      "state": {
       "_dom_classes": [
        "widget-interact"
       ],
       "children": [
        "IPY_MODEL_cad391e65ed541ca8686686d6944937f",
        "IPY_MODEL_869bb79bc3dc4113806a2df83d1653ba"
       ],
       "layout": "IPY_MODEL_58cd0d952c804705a60ef48f3f16fc57"
      }
     },
     "58cd0d952c804705a60ef48f3f16fc57": {
      "model_module": "@jupyter-widgets/base",
      "model_module_version": "1.0.0",
      "model_name": "LayoutModel",
      "state": {}
     },
     "6bef8a0b1cc3469588675b659796f248": {
      "model_module": "@jupyter-widgets/controls",
      "model_module_version": "1.0.0",
      "model_name": "SliderStyleModel",
      "state": {
       "description_width": ""
      }
     },
     "6d01faa9b3ea4ff1921d60ac6bd93975": {
      "model_module": "@jupyter-widgets/base",
      "model_module_version": "1.0.0",
      "model_name": "LayoutModel",
      "state": {}
     },
     "80179142b2eb4d8cb529e5cab45b5ed8": {
      "model_module": "@jupyter-widgets/base",
      "model_module_version": "1.0.0",
      "model_name": "LayoutModel",
      "state": {}
     },
     "8578ee2fed5a40589454be1e7a7057cf": {
      "model_module": "@jupyter-widgets/base",
      "model_module_version": "1.0.0",
      "model_name": "LayoutModel",
      "state": {}
     },
     "869bb79bc3dc4113806a2df83d1653ba": {
      "model_module": "@jupyter-widgets/output",
      "model_module_version": "1.0.0",
      "model_name": "OutputModel",
      "state": {
       "layout": "IPY_MODEL_6d01faa9b3ea4ff1921d60ac6bd93975",
       "outputs": [
        {
         "data": {
          "image/png": "iVBORw0KGgoAAAANSUhEUgAAAksAAAJCCAYAAADQsoPKAAAABHNCSVQICAgIfAhkiAAAAAlwSFlz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\nDMQSAMDg/wOk5aKA9YFwowAAAABJRU5ErkJggg==\n",
          "text/plain": "<matplotlib.figure.Figure at 0x7f112a4e6d30>"
         },
         "metadata": {},
         "output_type": "display_data"
        }
       ]
      }
     },
     "8e84a1d170c64a4da66841e18d6f1809": {
      "model_module": "@jupyter-widgets/base",
      "model_module_version": "1.0.0",
      "model_name": "LayoutModel",
      "state": {}
     },
     "cad391e65ed541ca8686686d6944937f": {
      "model_module": "@jupyter-widgets/controls",
      "model_module_version": "1.0.0",
      "model_name": "FloatSliderModel",
      "state": {
       "description": "A",
       "layout": "IPY_MODEL_8578ee2fed5a40589454be1e7a7057cf",
       "max": 3.141592653589793,
       "min": -3.141592653589793,
       "step": 0.1,
       "style": "IPY_MODEL_1d7c36734068450f8d9205e5a382ee9d",
       "value": -0.04159265358979303
      }
     },
     "cbabed2cfa64454b9c7858e23eff4243": {
      "model_module": "@jupyter-widgets/base",
      "model_module_version": "1.0.0",
      "model_name": "LayoutModel",
      "state": {}
     },
     "dbd4630112f44eb58044921599511db4": {
      "model_module": "@jupyter-widgets/output",
      "model_module_version": "1.0.0",
      "model_name": "OutputModel",
      "state": {
       "layout": "IPY_MODEL_80179142b2eb4d8cb529e5cab45b5ed8",
       "outputs": [
        {
         "data": {
          "image/png": "iVBORw0KGgoAAAANSUhEUgAAAksAAAJCCAYAAADQsoPKAAAABHNCSVQICAgIfAhkiAAAAAlwSFlz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\nAARQLAEAAAT8Xyb9ed8TAl+TAAAAAElFTkSuQmCC\n",
          "text/plain": "<matplotlib.figure.Figure at 0x7f10ff74a9b0>"
         },
         "metadata": {},
         "output_type": "display_data"
        }
       ]
      }
     },
     "e104a24830f346c59cbef76bfa19d20a": {
      "model_module": "@jupyter-widgets/controls",
      "model_module_version": "1.0.0",
      "model_name": "VBoxModel",
      "state": {
       "_dom_classes": [
        "widget-interact"
       ],
       "children": [
        "IPY_MODEL_16fd5f00170d4e619dd3e0e7223df6a8",
        "IPY_MODEL_dbd4630112f44eb58044921599511db4"
       ],
       "layout": "IPY_MODEL_cbabed2cfa64454b9c7858e23eff4243"
      }
     }
    },
    "version_major": 2,
    "version_minor": 0
   }
  }
 },
 "nbformat": 4,
 "nbformat_minor": 2
}
