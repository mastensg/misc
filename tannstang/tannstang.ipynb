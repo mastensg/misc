{
 "cells": [
  {
   "cell_type": "code",
   "execution_count": 3,
   "metadata": {},
   "outputs": [],
   "source": [
    "import numpy as np\n",
    "import matplotlib.pyplot as plt\n",
    "import skimage.draw as skid\n",
    "from ipywidgets import *\n",
    "\n",
    "%matplotlib inline"
   ]
  },
  {
   "cell_type": "code",
   "execution_count": 51,
   "metadata": {},
   "outputs": [
    {
     "data": {
      "application/vnd.jupyter.widget-view+json": {
       "model_id": "b99e01ec65fd481e9fd3de0082d51632",
       "version_major": 2,
       "version_minor": 0
      },
      "text/html": [
       "<p>Failed to display Jupyter Widget of type <code>interactive</code>.</p>\n",
       "<p>\n",
       "  If you're reading this message in Jupyter Notebook or JupyterLab, it may mean\n",
       "  that the widgets JavaScript is still loading. If this message persists, it\n",
       "  likely means that the widgets JavaScript library is either not installed or\n",
       "  not enabled. See the <a href=\"https://ipywidgets.readthedocs.io/en/stable/user_install.html\">Jupyter\n",
       "  Widgets Documentation</a> for setup instructions.\n",
       "</p>\n",
       "<p>\n",
       "  If you're reading this message in another notebook frontend (for example, a static\n",
       "  rendering on GitHub or <a href=\"https://nbviewer.jupyter.org/\">NBViewer</a>),\n",
       "  it may mean that your frontend doesn't currently support widgets.\n",
       "</p>\n"
      ],
      "text/plain": [
       "interactive(children=(FloatSlider(value=-0.04159265358979303, description='A', max=3.141592653589793, min=-3.141592653589793), Output()), _dom_classes=('widget-interact',))"
      ]
     },
     "metadata": {},
     "output_type": "display_data"
    },
    {
     "data": {
      "text/plain": [
       "<function __main__.draw>"
      ]
     },
     "execution_count": 51,
     "metadata": {},
     "output_type": "execute_result"
    }
   ],
   "source": [
    "z = 200\n",
    "\n",
    "\n",
    "#fb = np.zeros((z,z), dtype=np.uint8)\n",
    "def draw(A):\n",
    "    fb = np.zeros((z,z), dtype=np.uint8)\n",
    "\n",
    "    N = 5\n",
    "    R = 0.1\n",
    "    r = 0.03\n",
    "\n",
    "    C = 2 * np.pi * R\n",
    "    X = (A / (2 * np.pi)) * C\n",
    "    Y = 0\n",
    "    \n",
    "    for i in range(N):\n",
    "        a = A + 2 * np.pi * (i / N)\n",
    "        x = X + R * np.cos(a)\n",
    "        y = Y + R * np.sin(a)\n",
    "\n",
    "        xx, yy = skid.circle(z//2 + z*x, z//2 + z*y, z*r)\n",
    "        fb[yy, xx] = 1\n",
    "\n",
    "    plt.figure(figsize=(10,10))    \n",
    "    plt.imshow(fb)\n",
    "\n",
    "interact(draw, A=(-np.pi, np.pi, 0.1))"
   ]
  },
  {
   "cell_type": "code",
   "execution_count": 53,
   "metadata": {},
   "outputs": [
    {
     "data": {
      "application/vnd.jupyter.widget-view+json": {
       "model_id": "c34d189119b94ffd804710961e537c53",
       "version_major": 2,
       "version_minor": 0
      },
      "text/html": [
       "<p>Failed to display Jupyter Widget of type <code>interactive</code>.</p>\n",
       "<p>\n",
       "  If you're reading this message in Jupyter Notebook or JupyterLab, it may mean\n",
       "  that the widgets JavaScript is still loading. If this message persists, it\n",
       "  likely means that the widgets JavaScript library is either not installed or\n",
       "  not enabled. See the <a href=\"https://ipywidgets.readthedocs.io/en/stable/user_install.html\">Jupyter\n",
       "  Widgets Documentation</a> for setup instructions.\n",
       "</p>\n",
       "<p>\n",
       "  If you're reading this message in another notebook frontend (for example, a static\n",
       "  rendering on GitHub or <a href=\"https://nbviewer.jupyter.org/\">NBViewer</a>),\n",
       "  it may mean that your frontend doesn't currently support widgets.\n",
       "</p>\n"
      ],
      "text/plain": [
       "interactive(children=(FloatSlider(value=-0.0015926535897929917, description='A', max=3.141592653589793, min=-3.141592653589793, step=0.01), Output()), _dom_classes=('widget-interact',))"
      ]
     },
     "metadata": {},
     "output_type": "display_data"
    },
    {
     "data": {
      "text/plain": [
       "<function __main__.draw_one>"
      ]
     },
     "execution_count": 53,
     "metadata": {},
     "output_type": "execute_result"
    }
   ],
   "source": [
    "z = 200\n",
    "\n",
    "N = 18\n",
    "R = 0.30\n",
    "r = 0.02\n",
    "\n",
    "fb = np.zeros((z,z), dtype=np.uint8)\n",
    "\n",
    "def draw_all(A):\n",
    "    C = 2 * np.pi * R\n",
    "    X = (A / (2 * np.pi)) * C\n",
    "    Y = 0\n",
    "    \n",
    "    for i in range(N):\n",
    "        a = A + 2 * np.pi * (i / N)\n",
    "        x = X + R * np.cos(a)\n",
    "        y = Y + R * np.sin(a)\n",
    "\n",
    "        xx, yy = skid.circle(z//2 + z*x, z//2 + z*y, z*r)\n",
    "        #print(xx)\n",
    "        xx = np.minimum(xx, z-1)\n",
    "        xx = np.maximum(xx, 0)\n",
    "        fb[yy, xx] = 1+i\n",
    "\n",
    "for a in np.linspace(-np.pi, np.pi, 400):\n",
    "    draw_all(a)\n",
    "\n",
    "def draw_one(A):\n",
    "    fb_ = np.copy(fb)\n",
    "\n",
    "    C = 2 * np.pi * R\n",
    "    X = (A / (2 * np.pi)) * C\n",
    "    Y = 0\n",
    "    \n",
    "    for i in range(N):\n",
    "        a = A + 2 * np.pi * (i / N)\n",
    "        x = X + R * np.cos(a)\n",
    "        y = Y + R * np.sin(a)\n",
    "\n",
    "        xx, yy = skid.circle(z//2 + z*x, z//2 + z*y, z*r)\n",
    "        xx = np.minimum(xx, z-1)\n",
    "        xx = np.maximum(xx, 0)\n",
    "        fb_[yy, xx] = 20\n",
    "        \n",
    "    plt.figure(figsize=(10,10))\n",
    "    plt.imshow(fb_)\n",
    "    \n",
    "#draw_one(0)\n",
    "interact(draw_one, A=(-np.pi, np.pi, 0.01))"
   ]
  }
 ],
 "metadata": {
  "kernelspec": {
   "display_name": "Python 3",
   "language": "python",
   "name": "python3"
  },
  "language_info": {
   "codemirror_mode": {
    "name": "ipython",
    "version": 3
   },
   "file_extension": ".py",
   "mimetype": "text/x-python",
   "name": "python",
   "nbconvert_exporter": "python",
   "pygments_lexer": "ipython3",
   "version": "3.5.3"
  }
 },
 "nbformat": 4,
 "nbformat_minor": 2
}
